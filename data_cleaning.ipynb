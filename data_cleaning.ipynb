{
  "cells": [
    {
      "cell_type": "markdown",
      "metadata": {
        "id": "xBqCmKeaeYIG"
      },
      "source": [
        "## Step 1: Importing Necessary Libraries"
      ]
    },
    {
      "cell_type": "code",
      "execution_count": null,
      "metadata": {},
      "outputs": [],
      "source": [
        "%pip install -U pandas numpy matplotlib seaborn scikit-learn gzip"
      ]
    },
    {
      "cell_type": "code",
      "execution_count": 2,
      "metadata": {
        "id": "N7omskpweYIJ"
      },
      "outputs": [],
      "source": [
        "import pandas as pd\n",
        "import numpy as np\n",
        "import matplotlib.pyplot as plt\n",
        "import seaborn as sns\n",
        "from sklearn.preprocessing import StandardScaler\n",
        "from sklearn.model_selection import train_test_split"
      ]
    },
    {
      "cell_type": "markdown",
      "metadata": {
        "id": "xJyklMxQeYIK"
      },
      "source": [
        "## Step 2: Loading the Dataset\n",
        "We are loading the dataset from the provided CSV file and displaying the first 10 rows to get an initial look at the data."
      ]
    },
    {
      "cell_type": "code",
      "execution_count": 1,
      "metadata": {
        "id": "tUzXYSbLeYIL"
      },
      "outputs": [
        {
          "data": {
            "text/html": [
              "<div>\n",
              "<style scoped>\n",
              "    .dataframe tbody tr th:only-of-type {\n",
              "        vertical-align: middle;\n",
              "    }\n",
              "\n",
              "    .dataframe tbody tr th {\n",
              "        vertical-align: top;\n",
              "    }\n",
              "\n",
              "    .dataframe thead th {\n",
              "        text-align: right;\n",
              "    }\n",
              "</style>\n",
              "<table border=\"1\" class=\"dataframe\">\n",
              "  <thead>\n",
              "    <tr style=\"text-align: right;\">\n",
              "      <th></th>\n",
              "      <th>DR_NO</th>\n",
              "      <th>Date Rptd</th>\n",
              "      <th>DATE OCC</th>\n",
              "      <th>TIME OCC</th>\n",
              "      <th>AREA</th>\n",
              "      <th>AREA NAME</th>\n",
              "      <th>Rpt Dist No</th>\n",
              "      <th>Part 1-2</th>\n",
              "      <th>Crm Cd</th>\n",
              "      <th>Crm Cd Desc</th>\n",
              "      <th>...</th>\n",
              "      <th>Status</th>\n",
              "      <th>Status Desc</th>\n",
              "      <th>Crm Cd 1</th>\n",
              "      <th>Crm Cd 2</th>\n",
              "      <th>Crm Cd 3</th>\n",
              "      <th>Crm Cd 4</th>\n",
              "      <th>LOCATION</th>\n",
              "      <th>Cross Street</th>\n",
              "      <th>LAT</th>\n",
              "      <th>LON</th>\n",
              "    </tr>\n",
              "  </thead>\n",
              "  <tbody>\n",
              "    <tr>\n",
              "      <th>0</th>\n",
              "      <td>190326475</td>\n",
              "      <td>03/01/2020 12:00:00 AM</td>\n",
              "      <td>03/01/2020 12:00:00 AM</td>\n",
              "      <td>2130</td>\n",
              "      <td>7</td>\n",
              "      <td>Wilshire</td>\n",
              "      <td>784</td>\n",
              "      <td>1</td>\n",
              "      <td>510</td>\n",
              "      <td>VEHICLE - STOLEN</td>\n",
              "      <td>...</td>\n",
              "      <td>AA</td>\n",
              "      <td>Adult Arrest</td>\n",
              "      <td>510.0</td>\n",
              "      <td>998.0</td>\n",
              "      <td>NaN</td>\n",
              "      <td>NaN</td>\n",
              "      <td>1900 S  LONGWOOD                     AV</td>\n",
              "      <td>NaN</td>\n",
              "      <td>34.0375</td>\n",
              "      <td>-118.3506</td>\n",
              "    </tr>\n",
              "    <tr>\n",
              "      <th>1</th>\n",
              "      <td>200106753</td>\n",
              "      <td>02/09/2020 12:00:00 AM</td>\n",
              "      <td>02/08/2020 12:00:00 AM</td>\n",
              "      <td>1800</td>\n",
              "      <td>1</td>\n",
              "      <td>Central</td>\n",
              "      <td>182</td>\n",
              "      <td>1</td>\n",
              "      <td>330</td>\n",
              "      <td>BURGLARY FROM VEHICLE</td>\n",
              "      <td>...</td>\n",
              "      <td>IC</td>\n",
              "      <td>Invest Cont</td>\n",
              "      <td>330.0</td>\n",
              "      <td>998.0</td>\n",
              "      <td>NaN</td>\n",
              "      <td>NaN</td>\n",
              "      <td>1000 S  FLOWER                       ST</td>\n",
              "      <td>NaN</td>\n",
              "      <td>34.0444</td>\n",
              "      <td>-118.2628</td>\n",
              "    </tr>\n",
              "    <tr>\n",
              "      <th>2</th>\n",
              "      <td>200320258</td>\n",
              "      <td>11/11/2020 12:00:00 AM</td>\n",
              "      <td>11/04/2020 12:00:00 AM</td>\n",
              "      <td>1700</td>\n",
              "      <td>3</td>\n",
              "      <td>Southwest</td>\n",
              "      <td>356</td>\n",
              "      <td>1</td>\n",
              "      <td>480</td>\n",
              "      <td>BIKE - STOLEN</td>\n",
              "      <td>...</td>\n",
              "      <td>IC</td>\n",
              "      <td>Invest Cont</td>\n",
              "      <td>480.0</td>\n",
              "      <td>NaN</td>\n",
              "      <td>NaN</td>\n",
              "      <td>NaN</td>\n",
              "      <td>1400 W  37TH                         ST</td>\n",
              "      <td>NaN</td>\n",
              "      <td>34.0210</td>\n",
              "      <td>-118.3002</td>\n",
              "    </tr>\n",
              "    <tr>\n",
              "      <th>3</th>\n",
              "      <td>200907217</td>\n",
              "      <td>05/10/2023 12:00:00 AM</td>\n",
              "      <td>03/10/2020 12:00:00 AM</td>\n",
              "      <td>2037</td>\n",
              "      <td>9</td>\n",
              "      <td>Van Nuys</td>\n",
              "      <td>964</td>\n",
              "      <td>1</td>\n",
              "      <td>343</td>\n",
              "      <td>SHOPLIFTING-GRAND THEFT ($950.01 &amp; OVER)</td>\n",
              "      <td>...</td>\n",
              "      <td>IC</td>\n",
              "      <td>Invest Cont</td>\n",
              "      <td>343.0</td>\n",
              "      <td>NaN</td>\n",
              "      <td>NaN</td>\n",
              "      <td>NaN</td>\n",
              "      <td>14000    RIVERSIDE                    DR</td>\n",
              "      <td>NaN</td>\n",
              "      <td>34.1576</td>\n",
              "      <td>-118.4387</td>\n",
              "    </tr>\n",
              "    <tr>\n",
              "      <th>4</th>\n",
              "      <td>220614831</td>\n",
              "      <td>08/18/2022 12:00:00 AM</td>\n",
              "      <td>08/17/2020 12:00:00 AM</td>\n",
              "      <td>1200</td>\n",
              "      <td>6</td>\n",
              "      <td>Hollywood</td>\n",
              "      <td>666</td>\n",
              "      <td>2</td>\n",
              "      <td>354</td>\n",
              "      <td>THEFT OF IDENTITY</td>\n",
              "      <td>...</td>\n",
              "      <td>IC</td>\n",
              "      <td>Invest Cont</td>\n",
              "      <td>354.0</td>\n",
              "      <td>NaN</td>\n",
              "      <td>NaN</td>\n",
              "      <td>NaN</td>\n",
              "      <td>1900    TRANSIENT</td>\n",
              "      <td>NaN</td>\n",
              "      <td>34.0944</td>\n",
              "      <td>-118.3277</td>\n",
              "    </tr>\n",
              "    <tr>\n",
              "      <th>5</th>\n",
              "      <td>231808869</td>\n",
              "      <td>04/04/2023 12:00:00 AM</td>\n",
              "      <td>12/01/2020 12:00:00 AM</td>\n",
              "      <td>2300</td>\n",
              "      <td>18</td>\n",
              "      <td>Southeast</td>\n",
              "      <td>1826</td>\n",
              "      <td>2</td>\n",
              "      <td>354</td>\n",
              "      <td>THEFT OF IDENTITY</td>\n",
              "      <td>...</td>\n",
              "      <td>IC</td>\n",
              "      <td>Invest Cont</td>\n",
              "      <td>354.0</td>\n",
              "      <td>NaN</td>\n",
              "      <td>NaN</td>\n",
              "      <td>NaN</td>\n",
              "      <td>9900    COMPTON                      AV</td>\n",
              "      <td>NaN</td>\n",
              "      <td>33.9467</td>\n",
              "      <td>-118.2463</td>\n",
              "    </tr>\n",
              "    <tr>\n",
              "      <th>6</th>\n",
              "      <td>230110144</td>\n",
              "      <td>04/04/2023 12:00:00 AM</td>\n",
              "      <td>07/03/2020 12:00:00 AM</td>\n",
              "      <td>900</td>\n",
              "      <td>1</td>\n",
              "      <td>Central</td>\n",
              "      <td>182</td>\n",
              "      <td>2</td>\n",
              "      <td>354</td>\n",
              "      <td>THEFT OF IDENTITY</td>\n",
              "      <td>...</td>\n",
              "      <td>IC</td>\n",
              "      <td>Invest Cont</td>\n",
              "      <td>354.0</td>\n",
              "      <td>NaN</td>\n",
              "      <td>NaN</td>\n",
              "      <td>NaN</td>\n",
              "      <td>1100 S  GRAND                        AV</td>\n",
              "      <td>NaN</td>\n",
              "      <td>34.0415</td>\n",
              "      <td>-118.2620</td>\n",
              "    </tr>\n",
              "    <tr>\n",
              "      <th>7</th>\n",
              "      <td>220314085</td>\n",
              "      <td>07/22/2022 12:00:00 AM</td>\n",
              "      <td>05/12/2020 12:00:00 AM</td>\n",
              "      <td>1110</td>\n",
              "      <td>3</td>\n",
              "      <td>Southwest</td>\n",
              "      <td>303</td>\n",
              "      <td>2</td>\n",
              "      <td>354</td>\n",
              "      <td>THEFT OF IDENTITY</td>\n",
              "      <td>...</td>\n",
              "      <td>IC</td>\n",
              "      <td>Invest Cont</td>\n",
              "      <td>354.0</td>\n",
              "      <td>NaN</td>\n",
              "      <td>NaN</td>\n",
              "      <td>NaN</td>\n",
              "      <td>2500 S  SYCAMORE                     AV</td>\n",
              "      <td>NaN</td>\n",
              "      <td>34.0335</td>\n",
              "      <td>-118.3537</td>\n",
              "    </tr>\n",
              "    <tr>\n",
              "      <th>8</th>\n",
              "      <td>231309864</td>\n",
              "      <td>04/28/2023 12:00:00 AM</td>\n",
              "      <td>12/09/2020 12:00:00 AM</td>\n",
              "      <td>1400</td>\n",
              "      <td>13</td>\n",
              "      <td>Newton</td>\n",
              "      <td>1375</td>\n",
              "      <td>2</td>\n",
              "      <td>354</td>\n",
              "      <td>THEFT OF IDENTITY</td>\n",
              "      <td>...</td>\n",
              "      <td>IC</td>\n",
              "      <td>Invest Cont</td>\n",
              "      <td>354.0</td>\n",
              "      <td>NaN</td>\n",
              "      <td>NaN</td>\n",
              "      <td>NaN</td>\n",
              "      <td>1300 E  57TH                         ST</td>\n",
              "      <td>NaN</td>\n",
              "      <td>33.9911</td>\n",
              "      <td>-118.2521</td>\n",
              "    </tr>\n",
              "    <tr>\n",
              "      <th>9</th>\n",
              "      <td>211904005</td>\n",
              "      <td>12/31/2020 12:00:00 AM</td>\n",
              "      <td>12/31/2020 12:00:00 AM</td>\n",
              "      <td>1220</td>\n",
              "      <td>19</td>\n",
              "      <td>Mission</td>\n",
              "      <td>1974</td>\n",
              "      <td>2</td>\n",
              "      <td>624</td>\n",
              "      <td>BATTERY - SIMPLE ASSAULT</td>\n",
              "      <td>...</td>\n",
              "      <td>IC</td>\n",
              "      <td>Invest Cont</td>\n",
              "      <td>624.0</td>\n",
              "      <td>NaN</td>\n",
              "      <td>NaN</td>\n",
              "      <td>NaN</td>\n",
              "      <td>9000    CEDROS                       AV</td>\n",
              "      <td>NaN</td>\n",
              "      <td>34.2336</td>\n",
              "      <td>-118.4535</td>\n",
              "    </tr>\n",
              "  </tbody>\n",
              "</table>\n",
              "<p>10 rows × 28 columns</p>\n",
              "</div>"
            ],
            "text/plain": [
              "       DR_NO               Date Rptd                DATE OCC  TIME OCC  AREA  \\\n",
              "0  190326475  03/01/2020 12:00:00 AM  03/01/2020 12:00:00 AM      2130     7   \n",
              "1  200106753  02/09/2020 12:00:00 AM  02/08/2020 12:00:00 AM      1800     1   \n",
              "2  200320258  11/11/2020 12:00:00 AM  11/04/2020 12:00:00 AM      1700     3   \n",
              "3  200907217  05/10/2023 12:00:00 AM  03/10/2020 12:00:00 AM      2037     9   \n",
              "4  220614831  08/18/2022 12:00:00 AM  08/17/2020 12:00:00 AM      1200     6   \n",
              "5  231808869  04/04/2023 12:00:00 AM  12/01/2020 12:00:00 AM      2300    18   \n",
              "6  230110144  04/04/2023 12:00:00 AM  07/03/2020 12:00:00 AM       900     1   \n",
              "7  220314085  07/22/2022 12:00:00 AM  05/12/2020 12:00:00 AM      1110     3   \n",
              "8  231309864  04/28/2023 12:00:00 AM  12/09/2020 12:00:00 AM      1400    13   \n",
              "9  211904005  12/31/2020 12:00:00 AM  12/31/2020 12:00:00 AM      1220    19   \n",
              "\n",
              "   AREA NAME  Rpt Dist No  Part 1-2  Crm Cd  \\\n",
              "0   Wilshire          784         1     510   \n",
              "1    Central          182         1     330   \n",
              "2  Southwest          356         1     480   \n",
              "3   Van Nuys          964         1     343   \n",
              "4  Hollywood          666         2     354   \n",
              "5  Southeast         1826         2     354   \n",
              "6    Central          182         2     354   \n",
              "7  Southwest          303         2     354   \n",
              "8     Newton         1375         2     354   \n",
              "9    Mission         1974         2     624   \n",
              "\n",
              "                                Crm Cd Desc  ... Status   Status Desc  \\\n",
              "0                          VEHICLE - STOLEN  ...     AA  Adult Arrest   \n",
              "1                     BURGLARY FROM VEHICLE  ...     IC   Invest Cont   \n",
              "2                             BIKE - STOLEN  ...     IC   Invest Cont   \n",
              "3  SHOPLIFTING-GRAND THEFT ($950.01 & OVER)  ...     IC   Invest Cont   \n",
              "4                         THEFT OF IDENTITY  ...     IC   Invest Cont   \n",
              "5                         THEFT OF IDENTITY  ...     IC   Invest Cont   \n",
              "6                         THEFT OF IDENTITY  ...     IC   Invest Cont   \n",
              "7                         THEFT OF IDENTITY  ...     IC   Invest Cont   \n",
              "8                         THEFT OF IDENTITY  ...     IC   Invest Cont   \n",
              "9                  BATTERY - SIMPLE ASSAULT  ...     IC   Invest Cont   \n",
              "\n",
              "  Crm Cd 1 Crm Cd 2  Crm Cd 3 Crm Cd 4  \\\n",
              "0    510.0    998.0       NaN      NaN   \n",
              "1    330.0    998.0       NaN      NaN   \n",
              "2    480.0      NaN       NaN      NaN   \n",
              "3    343.0      NaN       NaN      NaN   \n",
              "4    354.0      NaN       NaN      NaN   \n",
              "5    354.0      NaN       NaN      NaN   \n",
              "6    354.0      NaN       NaN      NaN   \n",
              "7    354.0      NaN       NaN      NaN   \n",
              "8    354.0      NaN       NaN      NaN   \n",
              "9    624.0      NaN       NaN      NaN   \n",
              "\n",
              "                                   LOCATION Cross Street      LAT       LON  \n",
              "0   1900 S  LONGWOOD                     AV          NaN  34.0375 -118.3506  \n",
              "1   1000 S  FLOWER                       ST          NaN  34.0444 -118.2628  \n",
              "2   1400 W  37TH                         ST          NaN  34.0210 -118.3002  \n",
              "3  14000    RIVERSIDE                    DR          NaN  34.1576 -118.4387  \n",
              "4                         1900    TRANSIENT          NaN  34.0944 -118.3277  \n",
              "5   9900    COMPTON                      AV          NaN  33.9467 -118.2463  \n",
              "6   1100 S  GRAND                        AV          NaN  34.0415 -118.2620  \n",
              "7   2500 S  SYCAMORE                     AV          NaN  34.0335 -118.3537  \n",
              "8   1300 E  57TH                         ST          NaN  33.9911 -118.2521  \n",
              "9   9000    CEDROS                       AV          NaN  34.2336 -118.4535  \n",
              "\n",
              "[10 rows x 28 columns]"
            ]
          },
          "execution_count": 1,
          "metadata": {},
          "output_type": "execute_result"
        }
      ],
      "source": [
        "import pandas as pd\n",
        "import gzip\n",
        "\n",
        "# Read from the GZ file\n",
        "with gzip.open('Crime_Data_from_2020_to_Present.csv.gz', 'rt') as f:\n",
        "    df = pd.read_csv(f)\n",
        "\n",
        "# Display the first 10 rows of the dataset\n",
        "df.head(10)"
      ]
    },
    {
      "cell_type": "markdown",
      "metadata": {
        "id": "h98oPON6eYIM"
      },
      "source": [
        "## Step 3: Inspecting Columns and Data Types\n",
        "We are checking the structure of the dataset to understand the columns and their data types."
      ]
    },
    {
      "cell_type": "code",
      "execution_count": null,
      "metadata": {
        "colab": {
          "base_uri": "https://localhost:8080/",
          "height": 1000
        },
        "id": "VFdg7GWDeYIN",
        "outputId": "10818020-ce2a-4adb-835f-ab219abdaeab"
      },
      "outputs": [],
      "source": [
        "# Overview of data types and column names\n",
        "df.info()\n",
        "\n",
        "# Checking the first few rows to see column names and data\n",
        "df.head()"
      ]
    },
    {
      "cell_type": "markdown",
      "metadata": {
        "id": "2o25ldLieYIO"
      },
      "source": [
        "## Step 4: Class Distribution (Crm Cd Desc)\n",
        "We are examining the class distribution of the crime type (Crm Cd Desc) to see how balanced or imbalanced the data is. A bar plot is created to visualize the top 10 crime types."
      ]
    },
    {
      "cell_type": "code",
      "execution_count": null,
      "metadata": {
        "colab": {
          "base_uri": "https://localhost:8080/",
          "height": 800
        },
        "id": "Y5JfK6-deYIP",
        "outputId": "760326eb-007b-4ac1-a236-fce2ed756f99"
      },
      "outputs": [],
      "source": [
        "# Class distribution for Crm Cd Desc\n",
        "class_distribution = df['Crm Cd Desc'].value_counts()\n",
        "\n",
        "# Display distribution\n",
        "print(class_distribution)\n",
        "\n",
        "# Plot the top 10 crime types\n",
        "plt.figure(figsize=(10,6))\n",
        "sns.countplot(y='Crm Cd Desc', data=df, order=class_distribution.index[:10])\n",
        "plt.title('Top 10 Crime Type Distribution')\n",
        "plt.show()"
      ]
    },
    {
      "cell_type": "markdown",
      "metadata": {
        "id": "RT_b26_ueYIQ"
      },
      "source": [
        "## Step 5: Checking for Missing Values\n",
        "We are identifying missing values in the dataset to know which columns require further cleaning."
      ]
    },
    {
      "cell_type": "code",
      "execution_count": null,
      "metadata": {
        "colab": {
          "base_uri": "https://localhost:8080/"
        },
        "id": "qi7vpqvJeYIR",
        "outputId": "a9f419fa-2213-4448-8bfc-2dfb8e412c5b"
      },
      "outputs": [],
      "source": [
        "missing_values = df.isnull().sum()\n",
        "print(missing_values)"
      ]
    },
    {
      "cell_type": "markdown",
      "metadata": {
        "id": "1wbuJEpzeYIS"
      },
      "source": [
        "## Step 6: Descriptive Statistics\n",
        "We are calculating basic descriptive statistics (mean, median, standard deviation) for the numeric columns to better understand the dataset."
      ]
    },
    {
      "cell_type": "code",
      "execution_count": null,
      "metadata": {
        "colab": {
          "base_uri": "https://localhost:8080/",
          "height": 337
        },
        "id": "1ieX9gdoeYIS",
        "outputId": "ec92c6b5-d9b3-426b-cdf2-f3177b4e42c9"
      },
      "outputs": [],
      "source": [
        "# Descriptive statistics for numeric columns\n",
        "df.describe()"
      ]
    },
    {
      "cell_type": "markdown",
      "metadata": {
        "id": "L3U5hMP3eYIT"
      },
      "source": [
        "## Step 7: Data Visualization - Histogram for Victim Age\n",
        "We are visualizing the distribution of Vict Age to understand how victim ages are spread and whether there are any outliers."
      ]
    },
    {
      "cell_type": "code",
      "execution_count": null,
      "metadata": {
        "colab": {
          "base_uri": "https://localhost:8080/",
          "height": 564
        },
        "id": "PGmjl9r0eYIT",
        "outputId": "24cf3b12-efb0-4e29-dd2c-c27e696db763"
      },
      "outputs": [],
      "source": [
        "# Histogram of Victim Age\n",
        "plt.figure(figsize=(8,6))\n",
        "sns.histplot(df['Vict Age'].dropna(), bins=20)\n",
        "plt.title('Distribution of Victim Age')\n",
        "plt.show()"
      ]
    },
    {
      "cell_type": "markdown",
      "metadata": {
        "id": "bmMh5isZeYIT"
      },
      "source": [
        "## Data Cleaning\n",
        "Step 1: Handling Missing Values\n",
        "We are deciding how to handle missing values. Here, we fill the missing values in Vict Age with the median, and we drop rows where the target column (Crm Cd Desc) has missing values."
      ]
    },
    {
      "cell_type": "code",
      "execution_count": null,
      "metadata": {
        "collapsed": true,
        "id": "QxjG-aWXeYIU"
      },
      "outputs": [],
      "source": [
        "# Fill missing values in Vict Age with median\n",
        "df['Vict Age'].fillna(df['Vict Age'].median(), inplace=True)\n",
        "\n",
        "# Drop rows with missing Crm Cd Desc (target column)\n",
        "df.dropna(subset=['Crm Cd Desc'], inplace=True)\n",
        "\n",
        "# Remove rows where both Latitude and Longitude are 0\n",
        "df = df[(df['LAT'] != 0) & (df['LON'] != 0)]"
      ]
    },
    {
      "cell_type": "markdown",
      "metadata": {
        "id": "INMGxUPaeYIU"
      },
      "source": [
        "## Step 2: Removing Irrelevant Columns\n",
        "We are identifying and removing columns that do not contribute to the crime type prediction (such as unique IDs)."
      ]
    },
    {
      "cell_type": "code",
      "execution_count": 10,
      "metadata": {
        "id": "oqolMS5JeYIU"
      },
      "outputs": [],
      "source": [
        "# Remove irrelevant columns\n",
        "df.drop(columns=['DR_NO', 'Status Desc'], inplace=True)"
      ]
    },
    {
      "cell_type": "markdown",
      "metadata": {
        "id": "6cmjBWYYeYIV"
      },
      "source": [
        "## Step 3: Handling Duplicates\n",
        "We are checking for and removing any duplicate rows in the dataset."
      ]
    },
    {
      "cell_type": "code",
      "execution_count": 11,
      "metadata": {
        "id": "4HNOtu3qeYIV"
      },
      "outputs": [],
      "source": [
        "# Drop duplicates\n",
        "df.drop_duplicates(inplace=True)"
      ]
    },
    {
      "cell_type": "markdown",
      "metadata": {
        "id": "QI4nkwaTeYIW"
      },
      "source": [
        "## Step 4: Handling Outliers\n",
        "We are identifying and removing outliers in numeric columns like Vict Age. Here, we visualize outliers using a boxplot and remove any rows where Vict Age is above 100."
      ]
    },
    {
      "cell_type": "code",
      "execution_count": null,
      "metadata": {
        "colab": {
          "base_uri": "https://localhost:8080/",
          "height": 526
        },
        "id": "oa5oLAzJeYIW",
        "outputId": "805fc612-0cd0-496a-d9c3-c785ef7c1e15"
      },
      "outputs": [],
      "source": [
        "# Visualize outliers using boxplot\n",
        "plt.figure(figsize=(8,6))\n",
        "sns.boxplot(df['Vict Age'])\n",
        "plt.title('Boxplot for Victim Age')\n",
        "plt.show()\n",
        "\n",
        "# Remove outliers (Example: removing ages greater than 100)\n",
        "df = df[df['Vict Age'] <= 100]"
      ]
    },
    {
      "cell_type": "markdown",
      "metadata": {
        "id": "FdRtwzeyeYIW"
      },
      "source": [
        "## Data Transformation\n",
        "Step 1: Convert Time and Date to Usable Formats\n",
        "Convert Date Occ and TIME OCC to datetime format and extract new features like day of the week."
      ]
    },
    {
      "cell_type": "code",
      "execution_count": null,
      "metadata": {
        "colab": {
          "base_uri": "https://localhost:8080/"
        },
        "id": "k0JX_83heYIW",
        "outputId": "ebc095ef-c0ca-4688-d311-d63c63302b45"
      },
      "outputs": [],
      "source": [
        "# Convert DATE OCC to datetime\n",
        "df['DATE OCC'] = pd.to_datetime(df['DATE OCC'])\n",
        "\n",
        "# Convert Time Occ to usable format\n",
        "df['HOUR OCC'] = pd.to_datetime(df['TIME OCC'], format='%H%M', errors='coerce').dt.hour\n",
        "\n",
        "# Extract useful features like Day of Week, Month, Year\n",
        "df['Day of Week'] = df['DATE OCC'].dt.day_name()\n",
        "df['Month'] = df['DATE OCC'].dt.month\n",
        "df['Year'] = df['DATE OCC'].dt.year\n",
        "\n",
        "# Create a new feature Crime Period (Day vs. Night)\n",
        "df['Crime Period'] = df['HOUR OCC'].apply(lambda x: 'Day' if 6 <= x <= 18 else 'Night')\n",
        "\n"
      ]
    },
    {
      "cell_type": "markdown",
      "metadata": {
        "id": "avmInIZfeYIX"
      },
      "source": [
        "## Step 2: One-Hot Encoding for Categorical Variables\n",
        "Apply one-hot encoding to columns like Vict Sex, Premis Cd Desc."
      ]
    },
    {
      "cell_type": "code",
      "execution_count": 14,
      "metadata": {
        "id": "ut2jnFHFeYIX"
      },
      "outputs": [],
      "source": [
        "# One-hot encode Vict Sex and Premis Cd Desc\n",
        "df = pd.get_dummies(df, columns=['Vict Sex', 'Premis Desc'], drop_first=True)"
      ]
    },
    {
      "cell_type": "markdown",
      "metadata": {
        "id": "WbrGN2c7eYIX"
      },
      "source": [
        "## Step 3: Normalization of Victim Age\n",
        "Normalize the Vict Age column using StandardScaler."
      ]
    },
    {
      "cell_type": "code",
      "execution_count": 15,
      "metadata": {
        "id": "hANdUkMYeYIX"
      },
      "outputs": [],
      "source": [
        "# Normalize Vict Age\n",
        "scaler = StandardScaler()\n",
        "df['Vict Age'] = scaler.fit_transform(df[['Vict Age']])"
      ]
    },
    {
      "cell_type": "markdown",
      "metadata": {
        "id": "gpdZwbK8fJGY"
      },
      "source": [
        "## Step 4: Feature Engineering\n",
        "Incorporating Holidays into Time Analysis"
      ]
    },
    {
      "cell_type": "code",
      "execution_count": null,
      "metadata": {
        "colab": {
          "base_uri": "https://localhost:8080/",
          "height": 655
        },
        "id": "J4KhQxIDevXm",
        "outputId": "9953128d-ac4f-4eb8-fe22-f23bc98dd6d4"
      },
      "outputs": [],
      "source": [
        "\n",
        "%pip install holidays\n",
        "import holidays\n",
        "\n",
        "# Add a column indicating whether the crime occurred on a holiday\n",
        "us_holidays = holidays.US()\n",
        "df['Holiday'] = df['DATE OCC'].apply(lambda x: 1 if x in us_holidays else 0)\n",
        "\n",
        "# Visualization of crimes on holidays vs non-holidays\n",
        "plt.figure(figsize=(10, 6))\n",
        "sns.countplot(x='Holiday', data=df, palette='Set1')\n",
        "plt.title('Crime on Holidays vs Non-Holidays')\n",
        "plt.xticks([0, 1], ['Non-Holiday', 'Holiday'])\n",
        "plt.show()\n"
      ]
    },
    {
      "cell_type": "markdown",
      "metadata": {
        "id": "0Sy0BUQ8eYIX"
      },
      "source": [
        "# Initial Data Visualization and Analysis\n",
        "## Step 1: Crime Distribution by Day of the Week\n",
        "Visualize how crimes are distributed across the days of the week."
      ]
    },
    {
      "cell_type": "code",
      "execution_count": null,
      "metadata": {
        "colab": {
          "base_uri": "https://localhost:8080/",
          "height": 1000
        },
        "id": "r3bTNUWheYIX",
        "outputId": "55f39594-d74d-42fb-c4a4-439795e1d527"
      },
      "outputs": [],
      "source": [
        "# Plot crime distribution by day of the week\n",
        "plt.figure(figsize=(10, 6))\n",
        "sns.countplot(x='Day of Week', data=df, order=['Monday', 'Tuesday', 'Wednesday', 'Thursday', 'Friday', 'Saturday', 'Sunday'])\n",
        "plt.title('Crime Distribution by Day of the Week')\n",
        "plt.show()\n",
        "\n",
        "# Plot crime distribution by hour of the day\n",
        "plt.figure(figsize=(10, 6))\n",
        "sns.countplot(x='HOUR OCC', data=df, order=sorted(df['HOUR OCC'].unique()))  # Ensure the hours are in sorted order\n",
        "plt.title('Crime Distribution by Hour of the Day')\n",
        "plt.xlabel('Hour (24-Hour Format)')\n",
        "plt.show()"
      ]
    },
    {
      "cell_type": "markdown",
      "metadata": {
        "id": "t_O7GMJfeYIY"
      },
      "source": [
        "## Step 2: Geographic Distribution of Crimes\n",
        "Visualize the geographic distribution of crimes using latitude and longitude."
      ]
    },
    {
      "cell_type": "code",
      "execution_count": null,
      "metadata": {
        "colab": {
          "base_uri": "https://localhost:8080/",
          "height": 564
        },
        "id": "6QadAsg-eYIY",
        "outputId": "1a958ef4-f7ed-41c2-bc70-b481b47231b6"
      },
      "outputs": [],
      "source": [
        "# Scatter plot of crime locations (Longitude vs. Latitude)\n",
        "plt.figure(figsize=(10,6))\n",
        "sns.scatterplot(x='LON', y='LAT', data=df, alpha=0.5)\n",
        "plt.title('Geographic Distribution of Crimes')\n",
        "plt.show()"
      ]
    },
    {
      "cell_type": "markdown",
      "metadata": {
        "id": "qRc_N95QeYIY"
      },
      "source": [
        "## Step 3: Correlation Matrix\n",
        "Visualize the correlation between numeric features."
      ]
    },
    {
      "cell_type": "code",
      "execution_count": null,
      "metadata": {
        "colab": {
          "base_uri": "https://localhost:8080/",
          "height": 803
        },
        "id": "KklN6XGDeYIZ",
        "outputId": "6f8f0e67-be10-4e4d-ca56-3ad577a85bd9"
      },
      "outputs": [],
      "source": [
        "# Filter the dataset to include only numeric columns\n",
        "numeric_df = df.select_dtypes(include=['number'])\n",
        "\n",
        "# Compute correlation matrix for numeric features\n",
        "plt.figure(figsize=(12,8))\n",
        "correlation_matrix = numeric_df.corr()\n",
        "\n",
        "# Plot the heatmap\n",
        "sns.heatmap(correlation_matrix, annot=True, cmap='coolwarm')\n",
        "plt.title('Correlation Matrix of Numeric Features')\n",
        "plt.show()"
      ]
    },
    {
      "cell_type": "markdown",
      "metadata": {
        "id": "FRsogP-veYIZ"
      },
      "source": [
        "# Evaluation and Conclusion\n",
        "---\n",
        "\n",
        "### **Explanation of Preprocessing Steps**\n",
        "\n",
        "1. **Handling Missing Values**:\n",
        "   We identified columns that contained missing values and decided to handle them using the most appropriate method for each case:\n",
        "   - For columns critical to the analysis, such as `Crm Cd Desc` (Crime Code Description) and `Vict Age` (Victim Age), we removed rows that contained missing values. This decision was based on the importance of these columns for crime type prediction; imputing these values could introduce bias or noise into the dataset.\n",
        "   - Other columns with missing values that were deemed irrelevant to the crime type prediction task were dropped from the dataset.\n",
        "\n",
        "2. **Removing Irrelevant Data**:\n",
        "   Certain columns, such as unique identifiers (`DR_NO`) or redundant columns, were removed from the dataset. These columns were not expected to contribute to the prediction of crime types and were removed to streamline the dataset and improve model performance by reducing noise.\n",
        "\n",
        "3. **Handling Duplicates**:\n",
        "   We checked for duplicate entries in the dataset. Duplicate rows, if present, were removed to avoid redundancy and ensure the integrity of the data. This step helps prevent overrepresentation of certain data points, which could skew model predictions.\n",
        "\n",
        "4. **Handling Outliers**:\n",
        "   Outliers were identified in numeric columns such as `Vict Age` (Victim Age). We analyzed the distribution of these variables and decided to remove outliers to improve the overall quality of the dataset. Removing outliers helps ensure that the machine learning models are not disproportionately influenced by extreme values that do not reflect typical crime occurrences.\n",
        "\n",
        "5. **Date and Time Transformation**:\n",
        "   The `Date Occ` (Date of Occurrence) and `Time Occ` (Time of Occurrence) columns were transformed to extract useful features. We converted these columns into a usable datetime format and created additional features such as `Hour`, `Day of the Week`, and `Month`. This allowed us to capture temporal patterns in crime occurrences, such as the times or days when crimes are more likely to happen.\n",
        "\n",
        "6. **Categorical Encoding**:\n",
        "   Categorical variables, such as `Vict Sex` (Victim's Gender), were encoded using one-hot encoding. This transformation allowed us to represent categorical data numerically, which is essential for machine learning models that require numerical inputs.\n",
        "\n",
        "7. **Normalization and Standardization**:\n",
        "   Numerical columns like `Vict Age` were normalized to ensure that all features are on a similar scale. This step helps improve the performance of machine learning models by preventing features with larger ranges from dominating the training process.\n",
        "\n",
        "8. **Final Dataset Preparation**:\n",
        "   After cleaning, transforming, and encoding the data, the final dataset was saved in a CSV format. This dataset is now free from missing values, irrelevant columns, duplicates, and outliers, and it is ready for use in predictive modeling.\n",
        "\n",
        "\n",
        "---\n",
        "\n",
        "### **Summary of Key Patterns from Data Exploration**\n",
        "\n",
        "1. **Class Distribution**: Certain crime types, such as \"Battery\" and \"Theft,\" are dominant in the dataset. This indicates a class imbalance that may need to be addressed in later modeling steps.\n",
        "   \n",
        "2. **Time-based Patterns**: Crimes are more frequent during late evening hours, particularly between 6 PM to 11 PM, with a noticeable decline during early morning hours. This suggests that the time of day is a critical factor in crime occurrence.\n",
        "\n",
        "3. **Day of the Week**: There is a significant increase in crimes during weekends, especially on Saturdays. This implies that certain days are more crime-prone than others.\n",
        "\n",
        "4. **Geospatial Distribution**: The geographical analysis reveals that crimes tend to cluster in certain areas, indicating that some zones are more prone to criminal activity. These geographical zones could provide strong predictive power for crime types.\n",
        "\n",
        "5. **Victim's Age**: The distribution of victim ages shows a concentration around young to middle-aged adults, with some outliers at older ages. This suggests that age might also play a role in predicting certain types of crimes.\n",
        "\n",
        "---\n",
        "\n",
        "### **Relevant Features for Predicting Crime Types**\n",
        "\n",
        "1. **Time-related Features**: The hour of the day, day of the week, and month are crucial predictors. Different types of crimes show distinct patterns during specific times, days, and months.\n",
        "\n",
        "2. **Geographical Zones**: Geographic location is a strong predictor, as crimes are not uniformly distributed across the city. The zones derived from clustering the location data highlight areas that are more prone to certain crime types.\n",
        "\n",
        "3. **Victim’s Demographics**: Attributes such as the victim’s age and gender could help predict the type of crime, given that certain demographics are more commonly targeted in particular types of crimes.\n",
        "\n",
        "4. **Holiday Indicator**: Whether or not the crime occurred on a holiday could be relevant, as crime patterns tend to shift during special occasions and holidays.\n",
        "\n",
        "## Save the Cleaned Dataset\n",
        "Save the cleaned dataset for further modeling."
      ]
    },
    {
      "cell_type": "code",
      "execution_count": 20,
      "metadata": {
        "id": "S8SXCVaneYIZ"
      },
      "outputs": [],
      "source": [
        "import gzip\n",
        "\n",
        "# Save the cleaned dataset to a CSV file with gzip compression\n",
        "df.to_csv('cleaned_crime_data.csv.gz', index=False, compression='gzip')\n"
      ]
    }
  ],
  "metadata": {
    "colab": {
      "provenance": []
    },
    "kernelspec": {
      "display_name": "Python 3",
      "language": "python",
      "name": "python3"
    },
    "language_info": {
      "codemirror_mode": {
        "name": "ipython",
        "version": 3
      },
      "file_extension": ".py",
      "mimetype": "text/x-python",
      "name": "python",
      "nbconvert_exporter": "python",
      "pygments_lexer": "ipython3",
      "version": "3.10.7"
    }
  },
  "nbformat": 4,
  "nbformat_minor": 0
}
