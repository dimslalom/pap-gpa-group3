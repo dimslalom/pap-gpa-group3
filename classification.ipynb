{
 "cells": [
  {
   "cell_type": "code",
   "execution_count": null,
   "metadata": {},
   "outputs": [],
   "source": [
    "import pandas as pd\n",
    "from sklearn.model_selection import train_test_split\n",
    "import gzip\n",
    "\n",
    "# Load the cleaned dataset\n",
    "file_path = 'cleaned_crime_data.csv.gz'\n",
    "with gzip.open(file_path, 'rt') as f:\n",
    "    df = pd.read_csv(f)\n",
    "\n",
    "# Split the dataset into 70% training and 30% testing sets using stratified sampling\n",
    "X = df.drop('label', axis=1)\n",
    "y = df['label']\n",
    "X_train, X_test, y_train, y_test = train_test_split(X, y, test_size=0.3, stratify=y, random_state=42)\n",
    "\n",
    "# Display statistics for both the training and test sets to verify the proportions\n",
    "train_stats = y_train.value_counts(normalize=True)\n",
    "test_stats = y_test.value_counts(normalize=True)\n",
    "\n",
    "print(\"Training set label distribution:\")\n",
    "print(train_stats)\n",
    "print(\"\\nTest set label distribution:\")\n",
    "print(test_stats)"
   ]
  },
  {
   "cell_type": "code",
   "execution_count": null,
   "metadata": {},
   "outputs": [],
   "source": [
    "print(df.columns)"
   ]
  },
  {
   "cell_type": "code",
   "execution_count": null,
   "metadata": {},
   "outputs": [],
   "source": [
    "from sklearn.model_selection import StratifiedKFold\n",
    "from sklearn.metrics import accuracy_score, f1_score\n",
    "from sklearn.linear_model import LogisticRegression\n",
    "\n",
    "# Step 1: Display the total count of records in the training and test sets\n",
    "print(f\"Total records in training set: {len(X_train)}\")\n",
    "print(f\"Total records in test set: {len(X_test)}\")\n",
    "\n",
    "# Display the class distribution in both training and test sets\n",
    "print(\"\\nTraining set class distribution:\")\n",
    "print(y_train.value_counts(normalize=True))\n",
    "print(\"\\nTest set class distribution:\")\n",
    "print(y_test.value_counts(normalize=True))\n",
    "\n",
    "# Step 2: Perform 5-fold cross-validation on the training set\n",
    "\n",
    "# Initialize StratifiedKFold\n",
    "skf = StratifiedKFold(n_splits=5, shuffle=True, random_state=42)\n",
    "\n",
    "# Iterate through each fold\n",
    "for fold, (train_index, val_index) in enumerate(skf.split(X_train, y_train), 1):\n",
    "    X_fold_train, X_fold_val = X_train.iloc[train_index], X_train.iloc[val_index]\n",
    "    y_fold_train, y_fold_val = y_train.iloc[train_index], y_train.iloc[val_index]\n",
    "    \n",
    "    # Display the number of samples and class distribution for each fold\n",
    "    print(f\"\\nFold {fold}:\")\n",
    "    print(f\"Number of training samples: {len(X_fold_train)}\")\n",
    "    print(f\"Number of validation samples: {len(X_fold_val)}\")\n",
    "    print(\"Training set class distribution:\")\n",
    "    print(y_fold_train.value_counts(normalize=True))\n",
    "    print(\"Validation set class distribution:\")\n",
    "    print(y_fold_val.value_counts(normalize=True))\n",
    "    \n",
    "    # Example: Train a simple model and evaluate (replace with your model and metrics)\n",
    "    \n",
    "    model = LogisticRegression()\n",
    "    model.fit(X_fold_train, y_fold_train)\n",
    "    y_pred = model.predict(X_fold_val)\n",
    "    \n",
    "    # Calculate and display evaluation metrics\n",
    "    accuracy = accuracy_score(y_fold_val, y_pred)\n",
    "    f1 = f1_score(y_fold_val, y_pred, average='weighted')\n",
    "    print(f\"Accuracy: {accuracy:.4f}\")\n",
    "    print(f\"F1-score: {f1:.4f}\")"
   ]
  }
 ],
 "metadata": {
  "kernelspec": {
   "display_name": "Python 3",
   "language": "python",
   "name": "python3"
  },
  "language_info": {
   "codemirror_mode": {
    "name": "ipython",
    "version": 3
   },
   "file_extension": ".py",
   "mimetype": "text/x-python",
   "name": "python",
   "nbconvert_exporter": "python",
   "pygments_lexer": "ipython3",
   "version": "3.10.7"
  }
 },
 "nbformat": 4,
 "nbformat_minor": 2
}
